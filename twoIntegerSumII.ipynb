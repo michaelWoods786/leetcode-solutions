{
  "nbformat": 4,
  "nbformat_minor": 0,
  "metadata": {
    "colab": {
      "provenance": [],
      "authorship_tag": "ABX9TyMMmTRNNOK2g5Ww3nx2iHgm",
      "include_colab_link": true
    },
    "kernelspec": {
      "name": "python3",
      "display_name": "Python 3"
    },
    "language_info": {
      "name": "python"
    }
  },
  "cells": [
    {
      "cell_type": "markdown",
      "metadata": {
        "id": "view-in-github",
        "colab_type": "text"
      },
      "source": [
        "<a href=\"https://colab.research.google.com/github/michaelWoods786/leetcode-solutions/blob/main/twoIntegerSumII.ipynb\" target=\"_parent\"><img src=\"https://colab.research.google.com/assets/colab-badge.svg\" alt=\"Open In Colab\"/></a>"
      ]
    },
    {
      "cell_type": "code",
      "execution_count": null,
      "metadata": {
        "id": "OFmPdbKxy9zW"
      },
      "outputs": [],
      "source": [
        "class Solution:\n",
        "    def twoSum(self, numbers: List[int], target: int) -> List[int]:\n",
        "        mySorted = sorted(numbers)\n",
        "        lPointer = 0\n",
        "        rPointer = len(numbers)-1\n",
        "\n",
        "        while(lPointer < rPointer):\n",
        "            myNum = numbers[lPointer] + numbers[rPointer]\n",
        "            if myNum == target:\n",
        "                return [lPointer+1, rPointer+1]\n",
        "            elif myNum < target:\n",
        "                lPointer +=1\n",
        "            elif myNum > target:\n",
        "                rPointer-=1\n",
        "\n",
        "\n",
        "\n",
        "\n"
      ]
    }
  ]
}