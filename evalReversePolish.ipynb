{
  "nbformat": 4,
  "nbformat_minor": 0,
  "metadata": {
    "colab": {
      "provenance": [],
      "authorship_tag": "ABX9TyMZTlqJUeorroZVYJdGAnJe",
      "include_colab_link": true
    },
    "kernelspec": {
      "name": "python3",
      "display_name": "Python 3"
    },
    "language_info": {
      "name": "python"
    }
  },
  "cells": [
    {
      "cell_type": "markdown",
      "metadata": {
        "id": "view-in-github",
        "colab_type": "text"
      },
      "source": [
        "<a href=\"https://colab.research.google.com/github/michaelWoods786/leetcode-solutions/blob/main/evalReversePolish.ipynb\" target=\"_parent\"><img src=\"https://colab.research.google.com/assets/colab-badge.svg\" alt=\"Open In Colab\"/></a>"
      ]
    },
    {
      "cell_type": "code",
      "execution_count": null,
      "metadata": {
        "id": "SA_0dnBCDL6M"
      },
      "outputs": [],
      "source": [
        "class Solution:\n",
        "\n",
        "\n",
        "\n",
        "\n",
        "    def evalRPN(self, tokens: List[str]) -> int:\n",
        "        myStack = []\n",
        "\n",
        "        if len(tokens) == 1:\n",
        "            return int(tokens[0])\n",
        "        for i in range(len(tokens)):\n",
        "            print(\"this is myStack:\" + str(myStack))\n",
        "            token = tokens[i]\n",
        "            print(\"this is the token: \" + str(token))\n",
        "            if token == \"+\":\n",
        "                myStack.append(int(myStack.pop()) + int(myStack.pop()))\n",
        "                print(\"this is myStack:\" + str(myStack))\n",
        "            elif token == \"-\":\n",
        "                num1 = myStack.pop()\n",
        "                num2 = myStack.pop()\n",
        "                myStack.append(int(num2) - int(num1))\n",
        "                print(\"this is myStack:\" + str(myStack))\n",
        "            elif token == \"*\":\n",
        "                myStack.append(int(myStack.pop()) * int(myStack.pop()))\n",
        "            elif token == \"/\":\n",
        "                num1 = int(myStack.pop())\n",
        "                num2 = int(myStack.pop())\n",
        "\n",
        "                divided = int(num2/num1)\n",
        "                myStack.append(divided)\n",
        "                print(\"this is myStack: \" + str(myStack))\n",
        "            else:\n",
        "                myStack.append(tokens[i])\n",
        "        print(\"this is myStack: \" + str(myStack))\n",
        "        return myStack[0]"
      ]
    }
  ]
}