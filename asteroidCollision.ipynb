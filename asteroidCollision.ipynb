{
  "nbformat": 4,
  "nbformat_minor": 0,
  "metadata": {
    "colab": {
      "provenance": [],
      "authorship_tag": "ABX9TyODZyFMYdaxxlAF2goD5mz9",
      "include_colab_link": true
    },
    "kernelspec": {
      "name": "python3",
      "display_name": "Python 3"
    },
    "language_info": {
      "name": "python"
    }
  },
  "cells": [
    {
      "cell_type": "markdown",
      "metadata": {
        "id": "view-in-github",
        "colab_type": "text"
      },
      "source": [
        "<a href=\"https://colab.research.google.com/github/michaelWoods786/leetcode-solutions/blob/main/asteroidCollision.ipynb\" target=\"_parent\"><img src=\"https://colab.research.google.com/assets/colab-badge.svg\" alt=\"Open In Colab\"/></a>"
      ]
    },
    {
      "cell_type": "code",
      "execution_count": null,
      "metadata": {
        "id": "MyLtsLgG7n2m"
      },
      "outputs": [],
      "source": [
        "class Solution(object):\n",
        "    def asteroidCollision(self, asteroids):\n",
        "        myStack = []\n",
        "\n",
        "        for asteroid in asteroids:\n",
        "\n",
        "            if myStack and asteroid < 0 and  abs(asteroid) == myStack[-1]:\n",
        "                print(\"ENTERED 1\")\n",
        "                myStack.pop()\n",
        "\n",
        "            elif myStack and abs(myStack[-1]) < abs(asteroid) and myStack[-1] > 0 and asteroid < 0:\n",
        "                print(\"ENTERED 2\")\n",
        "                while (myStack and abs(myStack[-1]) < abs(asteroid) and myStack[-1] > 0 and asteroid < 0):\n",
        "                    myStack.pop()\n",
        "\n",
        "\n",
        "\n",
        "\n",
        "                if len(myStack) == 0 or myStack[-1] == asteroid or myStack[-1] < 0 and asteroid < 0:\n",
        "                    myStack.append(asteroid)\n",
        "\n",
        "\n",
        "            elif myStack and abs(myStack[-1]) > abs(asteroid) and myStack[-1] > 0 and asteroid < 0:\n",
        "                print(\"ENTERED 3\")\n",
        "                continue\n",
        "            else:\n",
        "                print(\"ENTERED 4\")\n",
        "                myStack.append(asteroid)\n",
        "\n",
        "        #if  len(myStack) >= 2 and abs(myStack[-1]) == abs(myStack[-2] and myStack[-1] > 0 and myStack[-2] < 0):\n",
        "          #  myStack.pop()\n",
        "\n",
        "        if abs(myStack[-1] == myStack)\n",
        "\n",
        "\n",
        "        return myStack"
      ]
    }
  ]
}