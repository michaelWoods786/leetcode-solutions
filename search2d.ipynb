{
  "nbformat": 4,
  "nbformat_minor": 0,
  "metadata": {
    "colab": {
      "provenance": [],
      "authorship_tag": "ABX9TyN0AbQZNjxhqQTvUSI/ZDdv",
      "include_colab_link": true
    },
    "kernelspec": {
      "name": "python3",
      "display_name": "Python 3"
    },
    "language_info": {
      "name": "python"
    }
  },
  "cells": [
    {
      "cell_type": "markdown",
      "metadata": {
        "id": "view-in-github",
        "colab_type": "text"
      },
      "source": [
        "<a href=\"https://colab.research.google.com/github/michaelWoods786/leetcode-solutions/blob/main/search2d.ipynb\" target=\"_parent\"><img src=\"https://colab.research.google.com/assets/colab-badge.svg\" alt=\"Open In Colab\"/></a>"
      ]
    },
    {
      "cell_type": "code",
      "execution_count": null,
      "metadata": {
        "id": "wnUFY2nrhUPC"
      },
      "outputs": [],
      "source": [
        "from typing import List\n",
        "\n",
        "class Solution:\n",
        "    def binarySearch(self, arr, target):\n",
        "        low = 0\n",
        "        high = len(arr) - 1\n",
        "\n",
        "        while low <= high:\n",
        "            mid = low + (high - low) // 2\n",
        "\n",
        "            if arr[mid] == target:\n",
        "                return True  # Target found\n",
        "            elif arr[mid] < target:\n",
        "                low = mid + 1  # Search the right half\n",
        "            else:\n",
        "                high = mid - 1  # Search the left half\n",
        "\n",
        "        return False  # Target not found in the array\n",
        "\n",
        "    def binarySearchCheck(self, arr, low, high, matrix, target):\n",
        "        print(\"this is the arr: \" + str(arr))\n",
        "\n",
        "        if low > high:\n",
        "            return False\n",
        "\n",
        "        mid = low + (high - low) // 2\n",
        "        print(\"this is arr[mid]: \" + str(arr[mid]))\n",
        "\n",
        "        # if it is equal to the target, the target has been found\n",
        "        if arr[mid] == target:\n",
        "            print(\"The target has been found\")\n",
        "            return True\n",
        "\n",
        "        if arr[mid] < target:\n",
        "            print(\"We have found the row\")\n",
        "            briefBinary = self.binarySearch(matrix[mid], target)\n",
        "            if not briefBinary:\n",
        "                for i in range(len(arr)):\n",
        "                    if arr[i] == target:  # Assuming you meant `arr` instead of `firstColumn`\n",
        "                        briefBinary = True\n",
        "                        break\n",
        "            return briefBinary\n",
        "        if arr[mid] > target:\n",
        "            return self.binarySearchCheck(arr, low, mid - 1, matrix, target)\n",
        "\n",
        "        return True\n",
        "\n",
        "    def searchMatrix(self, matrix: List[List[int]], target: int) -> bool:\n",
        "        firstColumn = [subLst[0] for subLst in matrix]\n",
        "        if target > firstColumn[len(firstColumn)-1]:\n",
        "            return self.binarySearch( matrix[len(firstColumn)-1], target)\n",
        "\n",
        "        return self.binarySearchCheck(firstColumn, 0, len(firstColumn) - 1, matrix, target)\n"
      ]
    }
  ]
}