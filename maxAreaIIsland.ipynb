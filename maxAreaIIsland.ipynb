{
  "nbformat": 4,
  "nbformat_minor": 0,
  "metadata": {
    "colab": {
      "provenance": [],
      "authorship_tag": "ABX9TyPYOBBhHTflp0udXDXIxJXE",
      "include_colab_link": true
    },
    "kernelspec": {
      "name": "python3",
      "display_name": "Python 3"
    },
    "language_info": {
      "name": "python"
    }
  },
  "cells": [
    {
      "cell_type": "markdown",
      "metadata": {
        "id": "view-in-github",
        "colab_type": "text"
      },
      "source": [
        "<a href=\"https://colab.research.google.com/github/michaelWoods786/leetcode-solutions/blob/main/maxAreaIIsland.ipynb\" target=\"_parent\"><img src=\"https://colab.research.google.com/assets/colab-badge.svg\" alt=\"Open In Colab\"/></a>"
      ]
    },
    {
      "cell_type": "code",
      "execution_count": null,
      "metadata": {
        "id": "krN0VUtMQuZi"
      },
      "outputs": [],
      "source": [
        "from collections import deque\n",
        "class Solution:\n",
        "    def breadthFirst(self, grid, row, col):\n",
        "        # Initialize the queue with the starting position\n",
        "        queue = [(grid[row][col], (row, col))]\n",
        "        visited = set()  # Use a set for visited to avoid duplicates\n",
        "\n",
        "        while queue:\n",
        "            element, (row, col) = queue.pop(0)\n",
        "            print(\"this is the element: \" + str(element))\n",
        "            print(\"this is the row: \" + str(row))\n",
        "            print(\"this is the col: \" + str(col))\n",
        "\n",
        "            if (row, col) in visited:\n",
        "                continue\n",
        "\n",
        "            if element == 1:\n",
        "                visited.add((row, col))  # Add the position to visited\n",
        "\n",
        "                # Check all four possible directions (up, down, left, right)\n",
        "                if row - 1 >= 0:  # Up\n",
        "                    queue.append((grid[row-1][col], (row-1, col)))\n",
        "                if row + 1 < len(grid):  # Down\n",
        "                    queue.append((grid[row+1][col], (row+1, col)))\n",
        "                if col - 1 >= 0:  # Left\n",
        "                    queue.append((grid[row][col-1], (row, col-1)))\n",
        "                if col + 1 < len(grid[0]):  # Right\n",
        "                    queue.append((grid[row][col+1], (row, col+1)))\n",
        "\n",
        "        return visited\n",
        "\n",
        "\n",
        "\n",
        "    def maxAreaOfIsland(self, grid: List[List[int]]) -> int:\n",
        "        visited = set()\n",
        "        queue = [(grid[0][0])]\n",
        "        maxArea = 0\n",
        "        for i in range(len(grid)):\n",
        "            for j in range(len(grid[0])):\n",
        "                if grid[i][j] == 1 and (i,j) not in visited:\n",
        "                    print(\"ENTERED\")\n",
        "                    search = self.breadthFirst(grid, i, j)\n",
        "                    if len(search) > maxArea:\n",
        "                        maxArea = len(search)\n",
        "\n",
        "        return maxArea\n",
        "\n",
        "\n",
        ""
      ]
    }
  ]
}