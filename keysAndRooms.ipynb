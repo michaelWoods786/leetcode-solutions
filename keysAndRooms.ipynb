{
  "nbformat": 4,
  "nbformat_minor": 0,
  "metadata": {
    "colab": {
      "provenance": [],
      "authorship_tag": "ABX9TyOaqqRAVZaLGBorqMNtyHAb",
      "include_colab_link": true
    },
    "kernelspec": {
      "name": "python3",
      "display_name": "Python 3"
    },
    "language_info": {
      "name": "python"
    }
  },
  "cells": [
    {
      "cell_type": "markdown",
      "metadata": {
        "id": "view-in-github",
        "colab_type": "text"
      },
      "source": [
        "<a href=\"https://colab.research.google.com/github/michaelWoods786/leetcode-solutions/blob/main/keysAndRooms.ipynb\" target=\"_parent\"><img src=\"https://colab.research.google.com/assets/colab-badge.svg\" alt=\"Open In Colab\"/></a>"
      ]
    },
    {
      "cell_type": "code",
      "execution_count": 2,
      "metadata": {
        "id": "a2qoA8YY0kOu"
      },
      "outputs": [],
      "source": [
        "class Solution(object):\n",
        "\n",
        "    def DFS(self,graph, startIndex,visited=None):\n",
        "        if visited is None:\n",
        "            visited = set()  # Initialize an empty set to store visited nodes\n",
        "\n",
        "        visited.append(startIndex) #here, we add the graph[startIndex]\n",
        "        print(\"this is the visited set: \" + str(visited))  # (Optional) Print the visited node or perform any action\n",
        "\n",
        "    # for all the adjacent veriticies, we do the following\n",
        "        print(\"this is graph[start]:\" + str(graph[startIndex]))\n",
        "        for neighbor in graph[startIndex]:\n",
        "            if neighbor not in visited:\n",
        "              self.DFS(graph, neighbor, visited)\n",
        "\n",
        "        return visited\n",
        "\n",
        "\n",
        "\n",
        "    def canVisitAllRooms(self,rooms):\n",
        "        getRooms = self.DFS(rooms,0, [])\n",
        "\n",
        "        if len(getRooms) == len(rooms):\n",
        "            return True\n",
        "        else:\n",
        "            return False\n",
        ""
      ]
    },
    {
      "cell_type": "code",
      "source": [],
      "metadata": {
        "id": "pv9RiJgP0plX"
      },
      "execution_count": null,
      "outputs": []
    }
  ]
}