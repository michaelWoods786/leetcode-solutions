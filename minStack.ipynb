{
  "nbformat": 4,
  "nbformat_minor": 0,
  "metadata": {
    "colab": {
      "provenance": [],
      "authorship_tag": "ABX9TyMHozPh0R8fZD/up/WvyPu0",
      "include_colab_link": true
    },
    "kernelspec": {
      "name": "python3",
      "display_name": "Python 3"
    },
    "language_info": {
      "name": "python"
    }
  },
  "cells": [
    {
      "cell_type": "markdown",
      "metadata": {
        "id": "view-in-github",
        "colab_type": "text"
      },
      "source": [
        "<a href=\"https://colab.research.google.com/github/michaelWoods786/leetcode-solutions/blob/main/minStack.ipynb\" target=\"_parent\"><img src=\"https://colab.research.google.com/assets/colab-badge.svg\" alt=\"Open In Colab\"/></a>"
      ]
    },
    {
      "cell_type": "code",
      "execution_count": null,
      "metadata": {
        "id": "5vDDBgyydYQj"
      },
      "outputs": [],
      "source": [
        "class MinStack:\n",
        "    def __init__(self):\n",
        "        self.myStack = []\n",
        "        self.minStack = []\n",
        "\n",
        "    def push(self, val: int) -> None:\n",
        "        self.myStack.append(val)\n",
        "        #if the min stack in none, then we append the value\n",
        "        if not self.minStack or val <= self.minStack[-1]:\n",
        "            self.minStack.append(val)\n",
        "\n",
        "    def pop(self) -> None:\n",
        "        if self.myStack:\n",
        "            #we get the end\n",
        "            popped = self.myStack.pop()\n",
        "            #if it is popped, then we\n",
        "            if popped == self.minStack[-1]:\n",
        "                self.minStack.pop()\n",
        "\n",
        "    def top(self) -> int:\n",
        "        if self.myStack:\n",
        "            return self.myStack[-1]\n",
        "        return None\n",
        "\n",
        "    def getMin(self) -> int:\n",
        "        if self.minStack:\n",
        "            return self.minStack[-1]\n",
        "        return None"
      ]
    }
  ]
}