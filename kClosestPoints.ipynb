{
  "nbformat": 4,
  "nbformat_minor": 0,
  "metadata": {
    "colab": {
      "provenance": [],
      "authorship_tag": "ABX9TyMGsf8ZMbOQ6A02vobfQNAr",
      "include_colab_link": true
    },
    "kernelspec": {
      "name": "python3",
      "display_name": "Python 3"
    },
    "language_info": {
      "name": "python"
    }
  },
  "cells": [
    {
      "cell_type": "markdown",
      "metadata": {
        "id": "view-in-github",
        "colab_type": "text"
      },
      "source": [
        "<a href=\"https://colab.research.google.com/github/michaelWoods786/leetcode-solutions/blob/main/kClosestPoints.ipynb\" target=\"_parent\"><img src=\"https://colab.research.google.com/assets/colab-badge.svg\" alt=\"Open In Colab\"/></a>"
      ]
    },
    {
      "cell_type": "code",
      "execution_count": null,
      "metadata": {
        "id": "xAyEkd30IcvL"
      },
      "outputs": [],
      "source": [
        "import math\n",
        "class Solution:\n",
        "    def kClosest(self, points: List[List[int]], k: int) -> List[List[int]]:\n",
        "        finalPoints = []\n",
        "        hashMap = {}\n",
        "        minHeap = []\n",
        "        for (x1,y1) in points:\n",
        "            distance = math.sqrt ((x1 ** 2) + (y1 ** 2))\n",
        "            heapq.heappush(minHeap, (-distance, (x1,y1)) )\n",
        "        #hashMap[(x1, y1)] = sqrt ((x1 ** 2) + (y1 ** 2))\n",
        "        print(\"this is the minHeap: \" + str(minHeap))\n",
        "        #popping off all the elements greater than k\n",
        "        while (len(minHeap) > k):\n",
        "            heapq.heappop(minHeap)\n",
        "        print(minHeap)\n",
        "        return [element[1] for element in minHeap]"
      ]
    }
  ]
}