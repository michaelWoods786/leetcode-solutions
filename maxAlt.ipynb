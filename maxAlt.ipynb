{
  "nbformat": 4,
  "nbformat_minor": 0,
  "metadata": {
    "colab": {
      "provenance": [],
      "authorship_tag": "ABX9TyMYiCOs96ATUO2vpe90b5OA",
      "include_colab_link": true
    },
    "kernelspec": {
      "name": "python3",
      "display_name": "Python 3"
    },
    "language_info": {
      "name": "python"
    }
  },
  "cells": [
    {
      "cell_type": "markdown",
      "metadata": {
        "id": "view-in-github",
        "colab_type": "text"
      },
      "source": [
        "<a href=\"https://colab.research.google.com/github/michaelWoods786/leetcode-solutions/blob/main/maxAlt.ipynb\" target=\"_parent\"><img src=\"https://colab.research.google.com/assets/colab-badge.svg\" alt=\"Open In Colab\"/></a>"
      ]
    },
    {
      "cell_type": "code",
      "execution_count": null,
      "metadata": {
        "id": "Gq6kiOHHp9pL"
      },
      "outputs": [],
      "source": [
        "class Solution(object):\n",
        "    def largestAltitude(self, gain):\n",
        "        currSum = 0\n",
        "        maxAlt = 0\n",
        "        for i in range(len(gain)):\n",
        "            currAltitude = currSum + gain[i]\n",
        "            print(\"this is the current Altitude: \" + str(currAltitude))\n",
        "            if currAltitude > maxAlt:\n",
        "                maxAlt = currAltitude\n",
        "            currSum = currAltitude\n",
        "\n",
        "        return maxAlt\n",
        ""
      ]
    }
  ]
}