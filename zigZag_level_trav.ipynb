{
  "nbformat": 4,
  "nbformat_minor": 0,
  "metadata": {
    "colab": {
      "provenance": [],
      "authorship_tag": "ABX9TyN0l1vNcj5DCpamxCOwrynA"
    },
    "kernelspec": {
      "name": "python3",
      "display_name": "Python 3"
    },
    "language_info": {
      "name": "python"
    }
  },
  "cells": [
    {
      "cell_type": "code",
      "execution_count": null,
      "metadata": {
        "id": "H8z8-x1tqjY2"
      },
      "outputs": [],
      "source": [
        "# Definition for a binary tree node.\n",
        "# class TreeNode:\n",
        "#     def __init__(self, val=0, left=None, right=None):\n",
        "#         self.val = val\n",
        "#         self.left = left\n",
        "#         self.right = right\n",
        "class Solution:\n",
        "    def zigzagLevelOrder(self, root: Optional[TreeNode]) -> List[List[int]]:\n",
        "        queue = []\n",
        "        queue.append((0, root))\n",
        "        zigZag = []\n",
        "        hashy = {}\n",
        "\n",
        "        while (len(queue) != 0 ):\n",
        "            root = queue.pop(0)\n",
        "\n",
        "            if (root != None):\n",
        "                #here, we have the (index,root) = root\n",
        "                (index, root) = root\n",
        "\n",
        "\n",
        "                if (root != None):\n",
        "                    if (index not in hashy.keys()):\n",
        "                        hashy[index] = [root.val]\n",
        "\n",
        "                    else:\n",
        "                        hashy[index].append(root.val)\n",
        "\n",
        "                    queue.append((index+1, root.left))\n",
        "                    queue.append((index+1, root.right))\n",
        "\n",
        "        finalLst = []\n",
        "        right = False\n",
        "        for key in hashy.keys():\n",
        "            lst = hashy[key]\n",
        "            if not right:\n",
        "                finalLst.append(lst)\n",
        "                right = True\n",
        "            else:\n",
        "                j = len(lst)-1\n",
        "                newLst = []\n",
        "                while (j >= 0):\n",
        "                    newLst.append(lst[j])\n",
        "                    j-=1\n",
        "                finalLst.append(newLst)\n",
        "                right = False\n",
        "        return finalLst"
      ]
    }
  ]
}