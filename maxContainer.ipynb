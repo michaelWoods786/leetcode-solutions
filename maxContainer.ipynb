{
  "nbformat": 4,
  "nbformat_minor": 0,
  "metadata": {
    "colab": {
      "provenance": [],
      "authorship_tag": "ABX9TyOuU0nY6x/NwQHyTomi2Qw6",
      "include_colab_link": true
    },
    "kernelspec": {
      "name": "python3",
      "display_name": "Python 3"
    },
    "language_info": {
      "name": "python"
    }
  },
  "cells": [
    {
      "cell_type": "markdown",
      "metadata": {
        "id": "view-in-github",
        "colab_type": "text"
      },
      "source": [
        "<a href=\"https://colab.research.google.com/github/michaelWoods786/leetcode-solutions/blob/main/maxContainer.ipynb\" target=\"_parent\"><img src=\"https://colab.research.google.com/assets/colab-badge.svg\" alt=\"Open In Colab\"/></a>"
      ]
    },
    {
      "cell_type": "code",
      "execution_count": null,
      "metadata": {
        "id": "cvZN3FbIKrG9"
      },
      "outputs": [],
      "source": [
        "class Solution(object):\n",
        "    def maxArea(self, height):\n",
        "        maxArea = 0\n",
        "        left = 0\n",
        "        right = len(height) - 1\n",
        "\n",
        "        while (left < right):\n",
        "            #finds the largest area based on height[left] and height[right]\n",
        "            #if we find the larger area, w eswithc. given that we found the max area so far with\n",
        "            maxArea = max(maxArea, (right - left) * min(height[left], height[right]))\n",
        "\n",
        "            if (height[left] < height[right]):\n",
        "                left+=1\n",
        "            else:\n",
        "                right-=1\n",
        "\n",
        "\n",
        "        return maxArea\n",
        "\n",
        ""
      ]
    }
  ]
}