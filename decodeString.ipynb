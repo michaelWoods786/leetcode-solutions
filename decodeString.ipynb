{
  "nbformat": 4,
  "nbformat_minor": 0,
  "metadata": {
    "colab": {
      "provenance": [],
      "authorship_tag": "ABX9TyNLtK7qO63NH7TLvV2droUq",
      "include_colab_link": true
    },
    "kernelspec": {
      "name": "python3",
      "display_name": "Python 3"
    },
    "language_info": {
      "name": "python"
    }
  },
  "cells": [
    {
      "cell_type": "markdown",
      "metadata": {
        "id": "view-in-github",
        "colab_type": "text"
      },
      "source": [
        "<a href=\"https://colab.research.google.com/github/michaelWoods786/leetcode-solutions/blob/main/decodeString.ipynb\" target=\"_parent\"><img src=\"https://colab.research.google.com/assets/colab-badge.svg\" alt=\"Open In Colab\"/></a>"
      ]
    },
    {
      "cell_type": "code",
      "execution_count": 19,
      "metadata": {
        "id": "PLogMxGtHTZx"
      },
      "outputs": [],
      "source": [
        "def decodeString(self, s):\n",
        "\n",
        "\n",
        "  myHashy = self.findMatchingBrackets(s)\n",
        "\n",
        "  i  = len(s)-1\n",
        "  myStack = []\n",
        "  finalS = \"\"\n",
        "\n",
        "  if \"[\" not in s and \"]\" not in s:\n",
        "    return s\n",
        "  else:\n",
        "    for i in range(len(s)):\n",
        "      myStack.append(s[i])\n",
        "\n",
        "    while(myStack[-1] != \"]\"):\n",
        "      element = myStack.pop()\n",
        "      finalS += element\n",
        "\n",
        "    if myStack:\n",
        "      i = len(myStack)-1\n",
        "      nextIndex = myHashy[i]\n",
        "      myStack.pop()\n",
        "\n",
        "\n",
        "      while (i > nextIndex + 1):\n",
        "        myStr = myStack.pop() + myStr\n",
        "        i-=1\n",
        "\n",
        "      #here, we get rid of the [\n",
        "      myStack.pop()\n",
        "      num = myStack.pop()\n",
        "\n",
        "      subS = \"\"\n",
        "      for i in range(int(num)-1):\n",
        "        subS += self.decodeString(myStr)\n",
        "      newS = \"\"\n",
        "      for i in range(len(myStack)):\n",
        "        newS += myStack[i]\n",
        "\n"
      ]
    },
    {
      "cell_type": "code",
      "source": [
        "findMatchingBrackets(\"3[a2[c]]\")"
      ],
      "metadata": {
        "colab": {
          "base_uri": "https://localhost:8080/"
        },
        "id": "KD2Zp-ysUIrm",
        "outputId": "1fc299e0-6a53-48f5-e609-db20f0dda6a7"
      },
      "execution_count": 18,
      "outputs": [
        {
          "output_type": "stream",
          "name": "stdout",
          "text": [
            "[]\n",
            "[]\n",
            "[]\n",
            "[1]\n",
            "[1]\n",
            "[1]\n",
            "[1, 4]\n",
            "[1, 4]\n",
            "[1]\n"
          ]
        }
      ]
    }
  ]
}